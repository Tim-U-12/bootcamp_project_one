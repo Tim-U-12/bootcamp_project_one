{
 "cells": [
  {
   "cell_type": "markdown",
   "id": "9587d816",
   "metadata": {},
   "source": [
    "# Project Scenario\n",
    "\n",
    "Our corporate client Used-Car Online Pty Ltd (UCO) is asking us to provide a comprehensive data analysis of the used car online market in the USA, according to the dataset file named ‘Vehicles.csv’. UCO requires from us the following:\n",
    "\n",
    "* Demonstrate a clear data frame to list ['id', 'region', 'price', 'year', 'manufacturer', 'model', 'condition', 'cylinders', 'fuel', 'odometer', 'title_status', 'transmission', 'drive', 'size', 'type', 'paint_color', 'description', 'county', 'state', 'lat', 'long', 'posting_date’]\n",
    "\n",
    "\n",
    "* The top 10 state ranking by the most cars listed and its correlation with population each state - Ina\n",
    "\n",
    "\n",
    "* Correlation between odometer (kms run) and price of the car – Dhiraj\n",
    "\n",
    "\n",
    "* The different types of vehicles listed in US from the year 2000 to 2022 – Anjana\n",
    "\n",
    "\n",
    "* Observations based on comparing the Color of the Vehicles listed with the number of listings, prices of listings and manufacturer – Deon\n",
    "\n",
    "\n",
    "* What is the most profitable way to sell cars online? - Tim"
   ]
  },
  {
   "cell_type": "code",
   "execution_count": 1,
   "id": "b665c79f",
   "metadata": {},
   "outputs": [
    {
     "ename": "ModuleNotFoundError",
     "evalue": "No module named 'geoviews'",
     "output_type": "error",
     "traceback": [
      "\u001b[1;31m---------------------------------------------------------------------------\u001b[0m",
      "\u001b[1;31mModuleNotFoundError\u001b[0m                       Traceback (most recent call last)",
      "\u001b[1;32m~\\AppData\\Local\\Temp\\ipykernel_2084\\4127429311.py\u001b[0m in \u001b[0;36m<module>\u001b[1;34m\u001b[0m\n\u001b[0;32m      2\u001b[0m \u001b[1;32mimport\u001b[0m \u001b[0mos\u001b[0m\u001b[1;33m\u001b[0m\u001b[1;33m\u001b[0m\u001b[0m\n\u001b[0;32m      3\u001b[0m \u001b[1;32mimport\u001b[0m \u001b[0mpandas\u001b[0m \u001b[1;32mas\u001b[0m \u001b[0mpd\u001b[0m\u001b[1;33m\u001b[0m\u001b[1;33m\u001b[0m\u001b[0m\n\u001b[1;32m----> 4\u001b[1;33m \u001b[1;32mimport\u001b[0m \u001b[0mgeoviews\u001b[0m \u001b[1;32mas\u001b[0m \u001b[0mgv\u001b[0m\u001b[1;33m\u001b[0m\u001b[1;33m\u001b[0m\u001b[0m\n\u001b[0m\u001b[0;32m      5\u001b[0m \u001b[1;32mimport\u001b[0m \u001b[0mhvplot\u001b[0m\u001b[1;33m.\u001b[0m\u001b[0mpandas\u001b[0m\u001b[1;33m\u001b[0m\u001b[1;33m\u001b[0m\u001b[0m\n\u001b[0;32m      6\u001b[0m \u001b[1;32mimport\u001b[0m \u001b[0mmatplotlib\u001b[0m\u001b[1;33m.\u001b[0m\u001b[0mpyplot\u001b[0m \u001b[1;32mas\u001b[0m \u001b[0mplt\u001b[0m\u001b[1;33m\u001b[0m\u001b[1;33m\u001b[0m\u001b[0m\n",
      "\u001b[1;31mModuleNotFoundError\u001b[0m: No module named 'geoviews'"
     ]
    }
   ],
   "source": [
    "# Dependencies\n",
    "import os\n",
    "import pandas as pd\n",
    "import geoviews as gv\n",
    "import hvplot.pandas\n",
    "import matplotlib.pyplot as plt\n",
    "import numpy as np\n",
    "import scipy.stats as st\n",
    "import numpy as np\n",
    "\n",
    "# Turn off warning messages\n",
    "import warnings\n",
    "warnings.filterwarnings(\"ignore\")"
   ]
  },
  {
   "cell_type": "markdown",
   "id": "873d49a7",
   "metadata": {},
   "source": [
    "# Clean Dataset 'vehicles.csv'\n",
    "\n",
    "Dataset Source from: https://www.kaggle.com/datasets/austinreese/craigslist-carstrucks-data?resource=download"
   ]
  },
  {
   "cell_type": "code",
   "execution_count": null,
   "id": "f2733857",
   "metadata": {},
   "outputs": [],
   "source": [
    "# Get raw dataset 'vehicles.csv'\n",
    "vehicles_data = os.path.join(\"Resources\", \"vehicles.csv\")\n",
    "vehicles_df = pd.read_csv(vehicles_data)\n",
    "vehicles_df.head()"
   ]
  },
  {
   "cell_type": "code",
   "execution_count": null,
   "id": "2d1f686e",
   "metadata": {},
   "outputs": [],
   "source": [
    "# Columns in raw dataset \n",
    "vehicles_df.columns"
   ]
  },
  {
   "cell_type": "code",
   "execution_count": null,
   "id": "88761da0",
   "metadata": {},
   "outputs": [],
   "source": [
    "# Delete some unuseful data columns\n",
    "vehicles_column = vehicles_df.drop([\"url\", \"region_url\", \"image_url\", \"description\", \"county\", \"VIN\"], axis = 1)\n",
    "vehicles_column.head()"
   ]
  },
  {
   "cell_type": "code",
   "execution_count": null,
   "id": "8f3310b8",
   "metadata": {},
   "outputs": [],
   "source": [
    "# Numbers of used-car listed in the dataset without dropna\n",
    "vehicles_column.count()"
   ]
  },
  {
   "cell_type": "code",
   "execution_count": null,
   "id": "ddc509eb",
   "metadata": {},
   "outputs": [],
   "source": [
    "# Delet duplicate series in the dataset\n",
    "vehicles_duplicate = vehicles_column[vehicles_column.duplicated(subset = [\"id\"])]\n",
    "vehicles_duplicate[\"id\"].unique()"
   ]
  },
  {
   "cell_type": "code",
   "execution_count": null,
   "id": "9e024f4b",
   "metadata": {},
   "outputs": [],
   "source": [
    "# Dropna in the dataset\n",
    "vehicles_na = vehicles_column.dropna(how = \"any\")\n",
    "vehicles_na"
   ]
  },
  {
   "cell_type": "code",
   "execution_count": null,
   "id": "573348b3",
   "metadata": {},
   "outputs": [],
   "source": [
    "# Numbers of used-car listed after data clean\n",
    "vehicles_na.count()"
   ]
  },
  {
   "cell_type": "code",
   "execution_count": null,
   "id": "6d6d37c1",
   "metadata": {},
   "outputs": [],
   "source": [
    "# Find used-car made after year 2000\n",
    "vehicles_sorted = vehicles_na[(vehicles_na[\"year\"] >= 2000) & (vehicles_na[\"year\"] <= 2022)]\n",
    "vehicles_sorted.head()"
   ]
  },
  {
   "cell_type": "code",
   "execution_count": null,
   "id": "3101ec0f",
   "metadata": {},
   "outputs": [],
   "source": [
    "# Remove the outlier price\n",
    "vehicles_price_out = vehicles_sorted[((vehicles_sorted[\"price\"] != 1234) &\n",
    "                                  (vehicles_sorted[\"price\"] != 12345) &\n",
    "                                  (vehicles_sorted[\"price\"] != 123456) &\n",
    "                                  (vehicles_sorted[\"price\"] != 1234567) &\n",
    "                                  (vehicles_sorted[\"price\"] != 12345678) &\n",
    "                                  (vehicles_sorted[\"price\"] != 123456789) &\n",
    "                                  (vehicles_sorted[\"price\"] != 1234567890))]\n",
    "vehicles_price_out.head()\n",
    "\n",
    "# Remove the outlier price\n",
    "vehicles_price = vehicles_price_out[((vehicles_sorted[\"price\"] > 1000) & (vehicles_sorted[\"price\"] < 200000))]\n",
    "vehicles_price.head()"
   ]
  },
  {
   "cell_type": "code",
   "execution_count": null,
   "id": "a9128216",
   "metadata": {},
   "outputs": [],
   "source": [
    "# Create a dataset after data clean with dropna, duplicate and unique function\n",
    "vehicles_cleaned_df = vehicles_price.reset_index(drop = True)\n",
    "vehicles_cleaned_df.head()"
   ]
  },
  {
   "cell_type": "code",
   "execution_count": null,
   "id": "6858d020",
   "metadata": {},
   "outputs": [],
   "source": [
    "# Numbers of used-car listed after data clean & made in 2000 and afterward\n",
    "vehicles_cleaned_df.count()"
   ]
  },
  {
   "cell_type": "code",
   "execution_count": null,
   "id": "e0283558",
   "metadata": {},
   "outputs": [],
   "source": [
    "# saved the cleaned dataset into output_data folder and ready for data analysis\n",
    "vehicles_cleaned_df.to_csv(\"output_data/vehicles_cleaned.csv\")"
   ]
  },
  {
   "cell_type": "markdown",
   "id": "888465d4",
   "metadata": {},
   "source": [
    "# Section 1"
   ]
  },
  {
   "cell_type": "markdown",
   "id": "34f98539",
   "metadata": {},
   "source": [
    "# The top 10 state ranking by number of vehicle listed and their corrlation with the population of each state - Ina\n",
    "\n",
    "EDA Methodology:\n",
    "\n",
    "* upper(): to capitalize the state abbreviation in the column of ‘state’\n",
    "* groupby(): to create a new data frame ‘geo_df’ with ‘state’ as an index and 3 columns ‘lat’, ‘long’ and ‘Total_Listed’\n",
    "* sort_values(by=‘Total_Listed’) and head(10): to find the top 10 states ranking by the number of vehicles listed\n",
    "* merge(), loc() & for loop: to merge cleaned vehicle data with USA population & state abbreviation datasets\n",
    "* stats.pearsonr(),stats.linregress(): to calculate correlation coefficient and linear regression"
   ]
  },
  {
   "cell_type": "code",
   "execution_count": null,
   "id": "9ea5d3d2",
   "metadata": {},
   "outputs": [],
   "source": [
    "# Upper the state abbreviation\n",
    "vehicles_cleaned_df['state'] = vehicles_cleaned_df['state'].str.upper()\n",
    "vehicles_cleaned_df.head()"
   ]
  },
  {
   "cell_type": "code",
   "execution_count": null,
   "id": "09ed608c",
   "metadata": {},
   "outputs": [],
   "source": [
    "# Create a new dataframe geo_df with geographic allocation lantitude and longtitude for the listed used car by groupby operations\n",
    "lat = vehicles_cleaned_df.groupby(['state']).mean()['lat']\n",
    "geo_df = lat.to_frame()\n",
    "long = vehicles_cleaned_df.groupby(['state']).mean()['long']\n",
    "list_number = vehicles_cleaned_df.groupby(['state']).count()['id']\n",
    "geo_df['long'] = long.values\n",
    "geo_df['Total_Listed'] = list_number.values\n",
    "geo_df.head(10)"
   ]
  },
  {
   "cell_type": "code",
   "execution_count": null,
   "id": "7b87aa49",
   "metadata": {},
   "outputs": [],
   "source": [
    "# Count total number of states in the data frame\n",
    "geo_df.count()['Total_Listed']"
   ]
  },
  {
   "cell_type": "code",
   "execution_count": null,
   "id": "dacb9f5b",
   "metadata": {},
   "outputs": [],
   "source": [
    "# Sort the geo_df and find the top 10 states ranking by number of vehicle listed\n",
    "geo_df = geo_df.sort_values(by=['Total_Listed'], ascending=False)\n",
    "geo_df_top10 = geo_df.head(10)\n",
    "geo_df_top10"
   ]
  },
  {
   "cell_type": "code",
   "execution_count": null,
   "id": "2e8c12e6",
   "metadata": {},
   "outputs": [],
   "source": [
    "# Calculate the % of Top 10 & Top 3 listed vehicles with the total number of listed vehicles\n",
    "Top10_vs_all = geo_df_top10.sum()['Total_Listed'] / geo_df.sum()['Total_Listed'] * 100\n",
    "\"{:,}%\".format(round(Top10_vs_all ,2))\n",
    "\n",
    "Top3_vs_Top10 = (geo_df_top10.iloc[0]['Total_Listed'] + geo_df_top10.iloc[1]['Total_Listed'] \\\n",
    "    + geo_df_top10.iloc[0]['Total_Listed']) / geo_df_top10.sum()['Total_Listed'] * 100 \n",
    "\"{:,}%\".format(round(Top3_vs_Top10,2))\n",
    "\n",
    "Top3_vs_all = (geo_df_top10.iloc[0]['Total_Listed'] + geo_df_top10.iloc[1]['Total_Listed'] \\\n",
    "    + geo_df_top10.iloc[0]['Total_Listed']) / geo_df.sum()['Total_Listed'] * 100\n",
    "\"{:,}%\".format(round(Top3_vs_all,2))\n",
    "\n",
    "print(f'The top 10 state ranking by their number of listed vehicles shows in the fig Top10_Listed.png.')\n",
    "print(f'The top 10 state has occupied {\"{:,}%\".format(round(Top10_vs_all ,2))} of the total number of liested vehicles.')\n",
    "print(f'Especially {geo_df_top10.index[0:3].values} listed {\"{:,}%\".format(round(Top3_vs_Top10,2))} of total number of top 10 vehicles.')\n",
    "print(f'The top 3 states also held {\"{:,}%\".format(round(Top3_vs_all,2))} vehicles vs number listed for all USA states.')"
   ]
  },
  {
   "cell_type": "code",
   "execution_count": null,
   "id": "bfb12c63",
   "metadata": {},
   "outputs": [],
   "source": [
    "# Bar chart for Top10 list car and those states\n",
    "geo_df_top10.plot.bar(y='Total_Listed',rot=0)\n",
    "plt.xlabel('Top 10 States')\n",
    "plt.ylabel('Total Listed Vehicles')\n",
    "plt.title('Top 10 states ranking by Total Listed Vehicles')\n",
    "\n",
    "# Save the figure\n",
    "plt.savefig(\"output_data/Top10_Listed.png\")"
   ]
  },
  {
   "cell_type": "markdown",
   "id": "5af39895",
   "metadata": {},
   "source": [
    "# Summary:\n",
    "#### The top 10 states have occupied more than half of the total number of listed vehicles. Especially the top 3 states California, Florida & New York State. The top 3 states share nearly one-third of listed vehicle numbers and generally consider California will be the biggest potential market followed by Floria & New York States. And the other states in the top 10 could be covered in the 2nd stage of marketing strategical development."
   ]
  },
  {
   "cell_type": "code",
   "execution_count": null,
   "id": "fe148c7e",
   "metadata": {},
   "outputs": [],
   "source": [
    "# Geographic location for top 10 states\n",
    "map_plot_1 = geo_df_top10.hvplot.points('long', 'lat', geo=True, color='red', alpha=0.2,\n",
    "                       xlim=(-140, -50), ylim=(0, 55), xlabel= 'Longitude', ylabel='Latitude', tiles='OSM',  \n",
    "                       size = \"Total_Listed\", frame_width=800)\n",
    "\n",
    "map_plot_1"
   ]
  },
  {
   "cell_type": "code",
   "execution_count": null,
   "id": "b17a61d8",
   "metadata": {},
   "outputs": [],
   "source": [
    "print(f'The hvplot with the open map shows the geographical location of the top 10 states by their longitude and latitude. \\\n",
    "It is obvious to find out the top 10 states mainly located on the eastern or western coasts of USA. The size of the bubble \\\n",
    "reflects the total number of listed vehicles. This will be clearly identified that Califonia held the largest number of listed \\\n",
    "vehicles followed by Florida and New York State.')"
   ]
  },
  {
   "cell_type": "markdown",
   "id": "f9e41233",
   "metadata": {},
   "source": [
    "### To run 'from bokeh.io import export_svg' please do: pip install selenium in git bash"
   ]
  },
  {
   "cell_type": "code",
   "execution_count": null,
   "id": "2eb54014",
   "metadata": {},
   "outputs": [],
   "source": [
    "# save fig into output_data folder\n",
    "from bokeh.io import export_svg\n",
    "hvplot.save(map_plot_1, 'output_data/Top10_state.png')"
   ]
  },
  {
   "cell_type": "markdown",
   "id": "211d2394",
   "metadata": {},
   "source": [
    "### import a dataset regarding USA population names 'data.csv' for merging with 'Total_listed' data and complete correlation analysis\n",
    "Dataset Source from: https://worldpopulationreview.com/states/state-abbreviations, \n",
    "https://worldpopulationreview.com/states"
   ]
  },
  {
   "cell_type": "code",
   "execution_count": null,
   "id": "82461b83",
   "metadata": {},
   "outputs": [],
   "source": [
    "# Get raw dataset USA State population list named 'data.csv'\n",
    "usa_population_data = os.path.join(\"Resources\", \"data.csv\")\n",
    "usa_population_df = pd.read_csv(usa_population_data)\n",
    "usa_population_df = usa_population_df.sort_values('state')\n",
    "usa_population_df.head()"
   ]
  },
  {
   "cell_type": "code",
   "execution_count": null,
   "id": "5ff6d589",
   "metadata": {},
   "outputs": [],
   "source": [
    "# Get raw dataset USA State abbreviation list named 'data_abb.csv.csv'\n",
    "usa_abb_data = os.path.join(\"Resources\", \"data_abb.csv\")\n",
    "usa_abb_df = pd.read_csv(usa_abb_data)\n",
    "usa_abb_df.head()"
   ]
  },
  {
   "cell_type": "code",
   "execution_count": null,
   "id": "058be17a",
   "metadata": {},
   "outputs": [],
   "source": [
    "# Merge two data frame USA population and state abbreviation into a data frame\n",
    "usa_population_df = usa_abb_df.merge(usa_population_df)\n",
    "usa_population_df.head()"
   ]
  },
  {
   "cell_type": "code",
   "execution_count": null,
   "id": "d3da4c29",
   "metadata": {},
   "outputs": [],
   "source": [
    "# Merge 'Total_Listed' data into USA population dataset by state\n",
    "usa_population_df['Total_Listed'] = '0'\n",
    "for i in range(39):\n",
    "    j = geo_df.index[i]\n",
    "    usa_population_df['Total_Listed'].loc[usa_population_df['code'] == j]= geo_df.loc[geo_df.index == j]['Total_Listed'].values\n",
    "usa_population_df = usa_population_df.sort_values(by='rank')\n",
    "usa_population_df.head(10)"
   ]
  },
  {
   "cell_type": "code",
   "execution_count": null,
   "id": "57fde0cf",
   "metadata": {},
   "outputs": [],
   "source": [
    "# Calculate the correlation coefficient and linear regression model for number of 'Total_listed' \\\n",
    "# car and USA population in 2022 \n",
    "x=usa_population_df['pop2022']\n",
    "y=usa_population_df['Total_Listed'].astype(int)\n",
    "pearsonr = st.pearsonr(x, y)\n",
    "print(f'The Pearson correlation coefficient for number of Total_listed and USA population in 2022 is \\\n",
    "{round(pearsonr[0],2)}')"
   ]
  },
  {
   "cell_type": "code",
   "execution_count": null,
   "id": "eddf9133",
   "metadata": {},
   "outputs": [],
   "source": [
    "# Calculate the correlation coefficient and linear regression model for number of 'Total_listed' \\\n",
    "# car vs USA population in 2022 \n",
    "slope, intercept, r, p, std_err = st.linregress(x, y)\n",
    "\n",
    "def linearRegression(x):\n",
    "    return slope * x + intercept\n",
    "\n",
    "linearRegression_list = list(map(linearRegression,x))"
   ]
  },
  {
   "cell_type": "code",
   "execution_count": null,
   "id": "4dacf418",
   "metadata": {},
   "outputs": [],
   "source": [
    "# Plot out number of 'Total_listed' car vs USA population in 2022\n",
    "plt.scatter(x, y,c='b')\n",
    "plt.plot(x, linearRegression_list,c='r')\n",
    "plt.xlabel('USA Population 2022')\n",
    "plt.ylabel('Total_Listed Vehicle')\n",
    "plt.title('USA Population 2022 vs. Total_Listed Vehicle')\n",
    "plt.annotate(f'y = {round(slope,4)} * x + {round(intercept,2)}',(20,6000), fontsize=14)\n",
    "\n",
    "# Save the figure\n",
    "plt.savefig(\"output_data/population_Total_Listed.png\")\n",
    "\n",
    "plt.show()"
   ]
  },
  {
   "cell_type": "markdown",
   "id": "56e0de1d",
   "metadata": {},
   "source": [
    "# Summary:\n",
    "#### The Pearson’s r is 0.89 and means a fairly strong positive relationship between the population and the number of listed vehicles. This reminds us to focus on developing online sales markets in the states with a larger population."
   ]
  },
  {
   "cell_type": "code",
   "execution_count": null,
   "id": "17f68440",
   "metadata": {},
   "outputs": [],
   "source": [
    "# Calculate the correlation coefficient and linear regression model for number of 'Total_listed' vehicles \\\n",
    "# and population density of state\n",
    "x=usa_population_df['densityMi']\n",
    "y=usa_population_df['Total_Listed'].astype(int)\n",
    "pearsonr = st.pearsonr(x, y)\n",
    "print(f'The Pearson correlation coefficient for number of Total_listed car and population density in 2022 \\\n",
    "is {round(pearsonr[0],2)}')"
   ]
  },
  {
   "cell_type": "code",
   "execution_count": null,
   "id": "c13fe562",
   "metadata": {},
   "outputs": [],
   "source": [
    "# Calculate the correlation coefficient and linear regression model for number of 'Total_listed' vehicles \\\n",
    "# vs population density of state\n",
    "slope, intercept, r, p, std_err = st.linregress(x, y)\n",
    "\n",
    "def linearRegression(x):\n",
    "    return slope * x + intercept\n",
    "\n",
    "linearRegression_list = list(map(linearRegression,x))"
   ]
  },
  {
   "cell_type": "code",
   "execution_count": null,
   "id": "224211e4",
   "metadata": {},
   "outputs": [],
   "source": [
    "# Plot out number of 'Total_listed' vehicles vs population density of state\n",
    "plt.scatter(x, y,c='b')\n",
    "plt.plot(x, linearRegression_list,c='r')\n",
    "plt.xlabel('Population Density of State')\n",
    "plt.ylabel('Total_Listed Vehicle')\n",
    "plt.title('Population Density of State vs. Total_Listed Vehicle')\n",
    "plt.annotate(f'y = {round(slope,5)} * x + {round(intercept,2)}',(20,6000), fontsize=14)\n",
    "\n",
    "# Save the figure\n",
    "plt.savefig(\"output_data/Population_Density_Total_Listed.png\")\n",
    "\n",
    "plt.show()"
   ]
  },
  {
   "cell_type": "markdown",
   "id": "246e6a3b",
   "metadata": {},
   "source": [
    "# Summary:\n",
    "The Pearson’s r is 0.17 only. The value is considered to be a weak correlation between the population density of the state and the total listed vehicles. The population density will not the factor to affect the used vehicle market in USA.\n",
    "\n",
    "# Which state is the most potential market?\n",
    "The top 3 potential market in California, Florida, and New York State. These top 3 states are occupied one-third of the total listed vehicles. Geographically, the states located on the western and eastern coasts will be considered better potential markets than inland areas. The Pearson correlation coefficient of 0.89 between the population in 2022 and the total listed vehicles tell us the strong relationship and the states with larger population may be better potential markets but it will not be necessary to consider the population density of states."
   ]
  },
  {
   "cell_type": "markdown",
   "id": "88c583f2",
   "metadata": {},
   "source": [
    "# Section 2"
   ]
  },
  {
   "cell_type": "markdown",
   "id": "7e303c09",
   "metadata": {},
   "source": [
    "# Correlation between odometer (kms run) and price of the car - Dhiraj\n",
    "\n",
    "* Opening the dataset .csv file\n",
    "\n",
    "* Removing the decimal from the year column\n",
    "\n",
    "* Removing the outliers in the dataset.\n",
    "\n",
    "* Selecting vehicles between the price of 1000 to 200,000\n",
    "\n",
    "*  vehicles between the odometer of 100 to 900,000"
   ]
  },
  {
   "cell_type": "code",
   "execution_count": null,
   "id": "6a9667fc",
   "metadata": {},
   "outputs": [],
   "source": [
    "# Showing the relation between the odometer and the price of the listed cars\n",
    "\n",
    "# open the csv file\n",
    "clean_data = os.path.join(\"output_data\", \"vehicles_cleaned.csv\")\n",
    "\n",
    "# read the csv file\n",
    "clean_df = pd.read_csv(clean_data)\n",
    "\n",
    "# removing the decimals from the year column\n",
    "clean_df['year'] = clean_df['year'].astype(int)\n",
    "\n",
    "# removing records based on price outliers\n",
    "clean_price_df = clean_df.loc[(clean_df['price'] >= 1000) & (clean_df['price'] <= 200000)]\n",
    "\n",
    "# removing records based on Odometer outliers\n",
    "cleaner_df = clean_price_df.loc[(clean_price_df['odometer'] >= 100) & (clean_price_df['odometer'] <= 900000)] \n",
    "\n",
    "# Getting the count of the vehicles remaing for visulaisation\n",
    "# cleaner_df.count()\n",
    "\n",
    "len(cleaner_df)"
   ]
  },
  {
   "cell_type": "code",
   "execution_count": null,
   "id": "ac6141bf",
   "metadata": {},
   "outputs": [],
   "source": [
    "clean_df.columns"
   ]
  },
  {
   "cell_type": "markdown",
   "id": "3a7b3dae",
   "metadata": {},
   "source": [
    "# Plotting a scatter plot\n",
    "* Plotting a scatter plot to show the relation between Price and Odometer of the of the car."
   ]
  },
  {
   "cell_type": "code",
   "execution_count": null,
   "id": "5b821406",
   "metadata": {},
   "outputs": [],
   "source": [
    "x_axis = cleaner_df[\"odometer\"]/1000\n",
    "y_axis = cleaner_df[\"price\"]/1000\n",
    "\n",
    "plt.scatter(x_axis, y_axis)\n",
    "\n",
    "plt.title(\"Odometer vs Price comparison\")\n",
    "plt.xlabel(\"Odometer (in thousands)\")\n",
    "plt.ylabel(\"Price (in thousands)\")\n",
    "plt.savefig(\"output_data/Odo_vs_price.png\")\n",
    "plt.show()"
   ]
  },
  {
   "cell_type": "markdown",
   "id": "e198cd39",
   "metadata": {},
   "source": [
    "# Observations\n",
    "* Higher the Odometer reading, lower the price of the car. We can see that from the graph above.\n",
    "\n",
    "\n",
    "* Vehicles plotted on the botom right hand corner\n",
    "\n",
    "    * These vehicles are very high on the their odometer reading and hence the price of the vehicle has depreciated.\n",
    "    \n",
    "    \n",
    "* Vehicles plotted on the top left hand corner\n",
    "\n",
    "    * These vehicles are very low on the their odometer reading and hence the price of the vehicle is high.\n",
    "    \n",
    "    \n",
    "* Other factors to take into consideration while analysing this relation :\n",
    "\n",
    "    * Year of manufacture is also have a bearing on the price of the vehicle"
   ]
  },
  {
   "cell_type": "markdown",
   "id": "a949a77c",
   "metadata": {},
   "source": [
    "# Section 3"
   ]
  },
  {
   "cell_type": "markdown",
   "id": "8ec3afd0",
   "metadata": {},
   "source": [
    "# The different types of vehicles listed in US from the year 2000 to 2022 - Anjana\n",
    "\n",
    "\n",
    "# Summary\n",
    "\n",
    "* The cleaned dataset of vehicles listed in the US was used for drawing conclusions about the different types of vehicles listed in US from the year 2000 to 2022.\n",
    "* The number of different types of vehicles listed was found and the percentage of each type of vehicles was calculated.\n",
    "* The top and bottom 5 types of vehicles listed were found out.\n",
    "* The year-wise trend of number of different types of cars listed was plotted to understand how it has changed from 2000 to 2022.\n",
    "* The top 3 manufacturers listed for vehicle types SUV and sedan were found out.\n",
    "* The year-wise trend of maximum price of suv and sedan cars listed was plotted to understand how it has changed from 2000 to 2022.\n",
    "* The price of the top 3 manufacturers of SUV and sedan was plotted to understand the maximum price of the vehicles listed."
   ]
  },
  {
   "cell_type": "code",
   "execution_count": null,
   "id": "9dd63f07",
   "metadata": {},
   "outputs": [],
   "source": [
    "# find the number of different types of vehicles listed\n",
    "\n",
    "type_df = vehicles_cleaned_df.groupby(\"type\")[\"id\"].count()"
   ]
  },
  {
   "cell_type": "code",
   "execution_count": null,
   "id": "919be4e0",
   "metadata": {},
   "outputs": [],
   "source": [
    "# plot the different types of vehicles listed in a pie chart\n",
    "\n",
    "labels = type_df.index.values\n",
    "\n",
    "fig = plt.figure(figsize=(10,8))\n",
    "\n",
    "plt.pie(type_df, labels = labels, autopct = lambda p: format(p, \".1f\") if p > 3 else None, \n",
    "                    shadow = False, startangle = 140, textprops={'fontsize': 10}, rotatelabels = 18)\n",
    "\n",
    "plt.title(\"Percentage of Different Types of Vehicles\", pad = 32)\n",
    "plt.ylabel(\"\")\n",
    "\n",
    "plt.legend(labels, loc = \"lower right\")\n",
    "\n",
    "plt.axis(\"equal\")\n",
    "plt.tight_layout()\n",
    "\n",
    "plt.savefig(\"../output_data/Percentage of Different Types of Vehicles.png\")"
   ]
  },
  {
   "cell_type": "markdown",
   "id": "6ebb6bb1",
   "metadata": {},
   "source": [
    "# Observation\n",
    "It can be seen that from among the 13 different types of vehicles listed, SUV and sedan holds the highest percentage with 27.1% and 28.5% respectively."
   ]
  },
  {
   "cell_type": "code",
   "execution_count": null,
   "id": "fa7d64be",
   "metadata": {},
   "outputs": [],
   "source": [
    "# find the top 5 types of vehicles listed\n",
    "\n",
    "top_type = type_df.sort_values(ascending = False).reset_index()\n",
    "top_type.rename(columns = {\"id\": \"count\"}, inplace=True)\n",
    "top_type.head(5)"
   ]
  },
  {
   "cell_type": "code",
   "execution_count": null,
   "id": "f3e9544c",
   "metadata": {},
   "outputs": [],
   "source": [
    "# find the bottom 5 types of vehicles listed\n",
    "\n",
    "bottom_type = type_df.sort_values(ascending = True).reset_index()\n",
    "bottom_type.rename(columns = {\"id\": \"count\"}, inplace = True)\n",
    "bottom_type.head(5)"
   ]
  },
  {
   "cell_type": "markdown",
   "id": "30c7226d",
   "metadata": {},
   "source": [
    "# Observation\n",
    "The top 5 types of vehicles that are listed are: sedan, SUV, truck, pickup and hatchback and the lowest 5 types of vehicles that are listed are: bus, offroad, wagon,convertible and other type."
   ]
  },
  {
   "cell_type": "code",
   "execution_count": null,
   "id": "eb472b01",
   "metadata": {},
   "outputs": [],
   "source": [
    "# find the year-wise count of the different types of vehicles listed\n",
    "\n",
    "year_df = vehicles_cleaned_df.groupby(\"year\")[\"type\"].value_counts()"
   ]
  },
  {
   "cell_type": "code",
   "execution_count": null,
   "id": "129c3d48",
   "metadata": {},
   "outputs": [],
   "source": [
    "# plot the year-wise count of the different types of vehicles listed as line chart\n",
    "\n",
    "vehicles_cleaned_df.groupby(\"type\").year.value_counts().unstack(0).plot.line(figsize = (9.5, 8.5))\n",
    "plt.title(\"Year-wise Count of Different Types of Vehicles\")\n",
    "plt.ylabel(\"count\")\n",
    "plt.tight_layout()\n",
    "plt.savefig(\"output_data/Year-wise Count of Different Types of Vehicles.png\")"
   ]
  },
  {
   "cell_type": "markdown",
   "id": "8ee34ea3",
   "metadata": {},
   "source": [
    "# Observation\n",
    "* The year-wise trend of number of different types of cars listed shows that over the years from 2000 to 2022, SUV and sedan are always the types with highest number of cars listed. \n",
    "* Also, a sharp rise in the number of cars listed can be observed in 2014. This was due to the lower gas prices in US.\n",
    "* Reference: https://www.detroitnews.com/story/business/autos/2015/01/02/suvs-trucks-tow-vehicle-sales/21215945/"
   ]
  },
  {
   "cell_type": "code",
   "execution_count": null,
   "id": "d192f593",
   "metadata": {},
   "outputs": [],
   "source": [
    "# create a dataframe for only the top 2 types of vehicles listed - SUV and sedan\n",
    "\n",
    "manufacturer_df = vehicles_cleaned_df[(vehicles_cleaned_df[\"type\"].\n",
    "                                       str.contains(\"SUV\")) | \n",
    "                                      (vehicles_cleaned_df[\"type\"].\n",
    "                                       str.contains(\"sedan\"))]\n",
    "manufacturer_df = manufacturer_df[[\"id\", \"price\", \"type\", \n",
    "                                   \"manufacturer\", \"year\"]]"
   ]
  },
  {
   "cell_type": "code",
   "execution_count": null,
   "id": "99a36036",
   "metadata": {},
   "outputs": [],
   "source": [
    "# find the top 3 manufacturers of SUV and sedan\n",
    "\n",
    "top_manufacturer = manufacturer_df.groupby(\"type\")[\"manufacturer\"].apply(lambda x: x.value_counts().head(3)).reset_index()\n",
    "top_manufacturer.rename(columns = {\"level_1\": \"manufacturer\", \"manufacturer\": \"count\"}, inplace = True)\n",
    "top_manufacturer"
   ]
  },
  {
   "cell_type": "markdown",
   "id": "fd1d0e11",
   "metadata": {},
   "source": [
    "# Observation\n",
    "The top 3 manufacturers of suv are Ford, Jeep and Chevrolet and the top 3 manufacturers of sedan are Chevrolet, Toyota and Honda."
   ]
  },
  {
   "cell_type": "code",
   "execution_count": null,
   "id": "76d3e095",
   "metadata": {},
   "outputs": [],
   "source": [
    "# create a dataframe for only the top 3 manufacturers of SUV and sedan\n",
    "\n",
    "manufacturer_max = manufacturer_df[((manufacturer_df[\"type\"].str.contains(\"SUV\") & manufacturer_df[\"manufacturer\"].str.contains(\"ford\"))|\n",
    "                                    (manufacturer_df[\"type\"].str.contains(\"SUV\") & manufacturer_df[\"manufacturer\"].str.contains(\"jeep\"))|\n",
    "                                    (manufacturer_df[\"type\"].str.contains(\"SUV\") & manufacturer_df[\"manufacturer\"].str.contains(\"chevrolet\"))|\n",
    "                                    (manufacturer_df[\"type\"].str.contains(\"sedan\") & manufacturer_df[\"manufacturer\"].str.contains(\"chevrolet\"))|\n",
    "                                    (manufacturer_df[\"type\"].str.contains(\"sedan\") & manufacturer_df[\"manufacturer\"].str.contains(\"toyota\"))|\n",
    "                                    (manufacturer_df[\"type\"].str.contains(\"sedan\") & manufacturer_df[\"manufacturer\"].str.contains(\"honda\")))]\n",
    "manufacturer_max = manufacturer_max.reset_index(drop = True)"
   ]
  },
  {
   "cell_type": "code",
   "execution_count": null,
   "id": "61c1cba5",
   "metadata": {},
   "outputs": [],
   "source": [
    "# plot the year-wise maximum price of the top 3 manufacturers of SUV and sedan as line chart\n",
    "\n",
    "manufacturer_max.groupby([\"year\", \"type\"])[\"price\"].max().unstack().plot.line(figsize = (9.5, 8.5))\n",
    "plt.title(\"Year-wise Trend of Maximum Price for SUV and Sedan\")\n",
    "plt.ylabel(\"price in $\")\n",
    "plt.tight_layout()\n",
    "plt.savefig(\"output_data/Year-wise Trend of Maximum Price for SUV and Sedan.png\")"
   ]
  },
  {
   "cell_type": "markdown",
   "id": "ede0bdc4",
   "metadata": {},
   "source": [
    "# Observation\n",
    "* It can be observed that the maximum price of suv and sedan have been rising over the years since 2000.\n",
    "* There was a sharp rise in the price in 2009 and 2014. This was because of the weak economy and falling supply of new cars.\n",
    "* Reference: https://www.usatoday.com/story/money/cars/2015/02/18/record-used-car-prices-in-2014/23637775/, https://www.cnbc.com/2009/10/13/expect-used-car-prices-to-stay-high.html"
   ]
  },
  {
   "cell_type": "code",
   "execution_count": null,
   "id": "78f11784",
   "metadata": {},
   "outputs": [],
   "source": [
    "# find the maximum price of the top 3 manufacturers of SUV and sedan\n",
    "\n",
    "max_p = manufacturer_max.groupby([\"type\",\"manufacturer\"])[\"price\"].max()\n",
    "max_df = max_p.reset_index()"
   ]
  },
  {
   "cell_type": "code",
   "execution_count": null,
   "id": "b79acb74",
   "metadata": {},
   "outputs": [],
   "source": [
    "# plot the price of the top 3 manufacturers of SUV and sedan as bar chart\n",
    "\n",
    "max_p.unstack().plot.bar(figsize = (8, 7))\n",
    "plt.title(\"Price of Top 3 Manufacturers of SUV and Sedan\")\n",
    "plt.ylabel(\"price in $\")\n",
    "plt.tight_layout()\n",
    "plt.savefig(\"output_data/Price of Top 3 Manufacturers of SUV and Sedan.png\")"
   ]
  },
  {
   "cell_type": "markdown",
   "id": "a0f41431",
   "metadata": {},
   "source": [
    "# Observation\n",
    "* It can be seen that the in the case of SUV, Ford has the maximum price listed and in the case of sedan, Chevrolet has the maximum price listed.\n",
    "\n",
    "# Conclusions\n",
    "* From among the 13 different types of vehicles listed, SUV and sedan holds the highest percentage with 27.1% and 28.5% respectively.\n",
    "* The top 5 types of vehicles that are listed are: sedan, SUV, truck, pickup and hatchback and the lowest 5 types of vehicles that are listed are: bus, offroad, wagon,convertible and mini-van.\n",
    "* The year-wise trend of number of different types of cars listed shows that over the years from 2000 to 2022, SUV and sedan are always the types with highest number of cars listed. Also, a sharp rise in the number of cars listed can be observed in 2014. This was due to the lower gas prices in US.\n",
    "* The top 3 manufacturers of suv are Ford, Jeep and Chevrolet and the top 3 manufacturers of sedan are Chevrolet, Toyota and Honda.\n",
    "* The maximum price of suv and sedan have been rising over the years since 2000. There was a sharp rise in the price in 2009 and 2014. This was because of the weak economy and falling supply of new cars.\n",
    "* In the case of SUV, Ford has the maximum price listed and in the case of sedan, Chevrolet has the maximum price listed."
   ]
  },
  {
   "cell_type": "markdown",
   "id": "e5fdfc02",
   "metadata": {},
   "source": [
    "# Section 4"
   ]
  },
  {
   "cell_type": "markdown",
   "id": "777fc3e5",
   "metadata": {},
   "source": [
    "# Observations based on comparing the Color of the Vehicles listed with the number of listings, prices of listings and manufacturer – Deon"
   ]
  },
  {
   "cell_type": "markdown",
   "id": "32cc731a",
   "metadata": {},
   "source": [
    "# Analysis\n",
    "Observations based on comparing the Color of the Vehicles listed with the number of listings, prices of listings and manufacturer."
   ]
  },
  {
   "cell_type": "code",
   "execution_count": null,
   "id": "9ba7d233",
   "metadata": {},
   "outputs": [],
   "source": [
    "# find the number of vehicles with different paint color\n",
    "colors_df = vehicles_cleaned_df['paint_color'].value_counts()\n",
    "colors_df"
   ]
  },
  {
   "cell_type": "code",
   "execution_count": null,
   "id": "197c6c7d",
   "metadata": {},
   "outputs": [],
   "source": [
    "# plot a bar chart for the number of vehicles with different paint color\n",
    "\n",
    "colors_df.plot(kind='bar')\n",
    "plt.title(\"Number of Listings per Paint Color\")\n",
    "plt.xlabel(\"Paint Color\")\n",
    "plt.ylabel(\"Number of Cars\")\n",
    "plt.xlim(-1,len(colors_df.index))\n",
    "plt.savefig(\"output_data/Number of Listings per Paint Color.png\")\n",
    "plt.show()"
   ]
  },
  {
   "cell_type": "markdown",
   "id": "add11871",
   "metadata": {},
   "source": [
    "# Observations\n",
    "* White Color Vehicles are the most listed with 16,299 listings.\n",
    "* Followed by Black(12,026), Silver(10,242), Grey(8528), Blue(6959) and Red(6126) Color Vehicles.\n",
    "* The Vehicle Color with the fewest listings is Purple with 161 listings."
   ]
  },
  {
   "cell_type": "code",
   "execution_count": null,
   "id": "2ab973ff",
   "metadata": {},
   "outputs": [],
   "source": [
    "# find the sum of price of different paint colors\n",
    "colors_price_df = vehicles_cleaned_df.groupby(['paint_color'])['price'].sum()/1000000\n",
    "colors_price_df"
   ]
  },
  {
   "cell_type": "code",
   "execution_count": null,
   "id": "5236c12d",
   "metadata": {},
   "outputs": [],
   "source": [
    "# plot a bar chart for the sum of price of different paint colors\n",
    "colors_price_df.plot(kind='bar')\n",
    "plt.title(\"Sum of Prices of Listings per Paint Color\")\n",
    "plt.xlabel(\"Paint Color\")\n",
    "plt.ylabel(\"Sum of Prices of Listings (in Millions of Dollars)\")\n",
    "plt.xlim(-1,len(colors_price_df.index))\n",
    "plt.savefig(\"output_data/Sum of Prices of Listings per Paint Color.png\")\n",
    "plt.show()"
   ]
  },
  {
   "cell_type": "markdown",
   "id": "e59820a7",
   "metadata": {},
   "source": [
    "# Observations\n",
    "* White Color Vehicles had the largest sum price of listings (USD 295.6 million).\n",
    "* Followed by Black(USD 190.3 million), Silver(USD 119.5 million), Grey(USD 119.2 million), Red(USD 84.8 million) and Blue(USD 82.6 million) Color Vehicles.\n",
    "* Even though there are 833 more Blue Vehicles listed than Red Vehicles, the sum price of listings of Red Vehicles is greater than that of Blue Vehicles by USD 2.3 million.\n",
    "* The Vehicle Color with smallest sum price of listings is Purple with USD 1.6 million."
   ]
  },
  {
   "cell_type": "code",
   "execution_count": null,
   "id": "39252ace",
   "metadata": {},
   "outputs": [],
   "source": [
    "# find the number of manufacturers listed for white paint color\n",
    "white_cleaned_df = vehicles_cleaned_df.loc[vehicles_cleaned_df['paint_color']=='white']\n",
    "manufacturer_white_df = white_cleaned_df.groupby(['manufacturer'])['paint_color'].count()\n",
    "manufacturer_white_df"
   ]
  },
  {
   "cell_type": "code",
   "execution_count": null,
   "id": "bc3c6fd2",
   "metadata": {},
   "outputs": [],
   "source": [
    "# create a bar chart for the number of manufacturers listed for white paint color\n",
    "manufacturer_white_df.plot(kind='bar',figsize=(12,6))\n",
    "plt.title(\"Number of White Vehicles Listed per Manufacturer\")\n",
    "plt.xlabel(\"Manufacturer\")\n",
    "plt.ylabel(\"Number of White Vehicles\")\n",
    "plt.xlim(-1,len(manufacturer_white_df.index))\n",
    "plt.savefig(\"output_data/Number of White Vehicles Listed per Manufacturer.png\")\n",
    "plt.show()"
   ]
  },
  {
   "cell_type": "markdown",
   "id": "46aaa9ed",
   "metadata": {},
   "source": [
    "# Observations\n",
    "* The Vehicle Manufacturer with the largest number of White Vehicles listed is Ford with 5146 listings.\n",
    "* The second largest is Chevrolet with 2836 White Vehicles Listed.\n",
    "* Both these manufacturers are American owned.\n",
    "* The third largest is Toyota with 1095 White Vehicles Listed. (Japanese Owned)"
   ]
  },
  {
   "cell_type": "markdown",
   "id": "faf3651e",
   "metadata": {},
   "source": [
    "# Section 5"
   ]
  },
  {
   "cell_type": "markdown",
   "id": "733260e3",
   "metadata": {},
   "source": [
    "# What is the most profitable way to sell cars online? - Tim\n",
    "* This section explores the saturation and volatility in the market."
   ]
  },
  {
   "cell_type": "code",
   "execution_count": null,
   "id": "44aa50a2",
   "metadata": {},
   "outputs": [],
   "source": [
    "# Removing car prices that are 1 or less and also removing any prices that are greater\n",
    "# the 95% quartile or lower than the 5% quartile\n",
    "vehicle_listing_df = vehicles_cleaned_df.loc[vehicles_cleaned_df[\"price\"] > 1]\n",
    "vehicle_listing_df = vehicles_cleaned_df[vehicles_cleaned_df.groupby(\"manufacturer\").price.\\\n",
    "      transform(lambda x : (x<x.quantile(0.95))&(x>(x.quantile(0.05)))).eq(1)]\n",
    "vehicle_listing_df.max()"
   ]
  },
  {
   "cell_type": "code",
   "execution_count": null,
   "id": "90b5395b",
   "metadata": {},
   "outputs": [],
   "source": [
    "# Calculating the number of cars listed\n",
    "num_cars = vehicle_listing_df.groupby(\"manufacturer\")[\"id\"].count()\n",
    "num_cars = num_cars.sort_values(ascending=False)\n",
    "num_cars.rename(\"count\").reset_index()"
   ]
  },
  {
   "cell_type": "code",
   "execution_count": null,
   "id": "2af34199",
   "metadata": {},
   "outputs": [],
   "source": [
    "num_cars.plot(kind=\"pie\", rotatelabels=18, figsize=(15,10), autopct=lambda p: format(p, \".1f\") if p > 1.5 else None,\n",
    "             shadow = False, startangle = 140, textprops={'fontsize': 10})\n",
    "\n",
    "labels = num_cars.index.values\n",
    "\n",
    "plt.title(\"Percentage of Different Manufactuers\", pad = 40)\n",
    "plt.ylabel(\"\")\n",
    "\n",
    "plt.legend(labels, loc = \"lower right\")\n",
    "\n",
    "plt.axis(\"equal\")\n",
    "plt.tight_layout()"
   ]
  },
  {
   "cell_type": "markdown",
   "id": "46e08c64",
   "metadata": {},
   "source": [
    "# Observation\n",
    "It can be seen that fords and chervolet are the most listed cars, with them making up 19.3% and 14.2% of the listed used cars"
   ]
  },
  {
   "cell_type": "code",
   "execution_count": null,
   "id": "9909bdc4",
   "metadata": {},
   "outputs": [],
   "source": [
    "# Average price per car manufacturer\n",
    "average_listing_price = vehicle_listing_df.groupby([\"manufacturer\"])[\"price\"].mean().sort_index()\n",
    "average_listing_price.plot.bar()\n",
    "plt.title(\"Average Price Per Car Manufacturer\")\n",
    "plt.ylabel(\"price in $\")\n",
    "plt.savefig(\"output_data/Average Price Per Car Manufacturer.png\")"
   ]
  },
  {
   "cell_type": "code",
   "execution_count": null,
   "id": "6df3d698",
   "metadata": {},
   "outputs": [],
   "source": [
    "average_listing_price[[\"ford\", \"chevrolet\", \"toyota\"]].reset_index()"
   ]
  },
  {
   "cell_type": "code",
   "execution_count": null,
   "id": "2f1e3870",
   "metadata": {},
   "outputs": [],
   "source": [
    "# Top 5 average costing cars\n",
    "top_avg_list_price = average_listing_price.sort_values(ascending=False).reset_index()\n",
    "top_avg_list_price.rename(columns = {\"price\":\"average price\"}, inplace=True)\n",
    "top_avg_list_price.head(5)"
   ]
  },
  {
   "cell_type": "code",
   "execution_count": null,
   "id": "35a8a56f",
   "metadata": {},
   "outputs": [],
   "source": [
    "# Bottom 5 average costing cars\n",
    "bot_avg_list_price = average_listing_price.sort_values(ascending=True).reset_index()\n",
    "bot_avg_list_price.rename(columns = {\"price\":\"average price\"}, inplace=True)\n",
    "bot_avg_list_price.head(5)"
   ]
  },
  {
   "cell_type": "markdown",
   "id": "be91dbd1",
   "metadata": {},
   "source": [
    "# Observation\n",
    "* We can observe that the though ford, chevrolet and toyota have the highest number of listings, they still have a relatively high average price. This indicates greater price stability amongst those manufacturers.\n",
    "\n",
    "\n",
    "# Finding volatility\n",
    "* Since we will be sourcing used cars, we need to be buy them for as cheap as possible and sell them for as high as possible to make the most profit"
   ]
  },
  {
   "cell_type": "code",
   "execution_count": null,
   "id": "c3f5e50d",
   "metadata": {},
   "outputs": [],
   "source": [
    "iqr = vehicle_listing_df.boxplot(column=\"price\", by=\"manufacturer\", rot=90, figsize=(15,10))\n",
    "plt.savefig(\"output_data/Boxplot Grouped by Manufacturer.png\")"
   ]
  },
  {
   "cell_type": "code",
   "execution_count": null,
   "id": "18d16c56",
   "metadata": {},
   "outputs": [],
   "source": [
    "# iqr = vehicle_listing_df.quantile([0.75, 0.25]).groupby(\"manufacturer\")[\"price\"].agg(np.substract.reduce)\n",
    "\n",
    "grouper = vehicle_listing_df.groupby(\"manufacturer\")\n",
    "q1, q3 = grouper.quantile(0.25), grouper.quantile(0.75)\n",
    "iqr = q3 - q1\n",
    "iqr = iqr.rename(columns={\"price\": \"IQR\"})\n",
    "\n",
    "iqr[\"IQR\"].sort_values(ascending=False).reset_index()"
   ]
  },
  {
   "cell_type": "code",
   "execution_count": null,
   "id": "add24614",
   "metadata": {},
   "outputs": [],
   "source": []
  }
 ],
 "metadata": {
  "kernelspec": {
   "display_name": "Python 3 (ipykernel)",
   "language": "python",
   "name": "python3"
  },
  "language_info": {
   "codemirror_mode": {
    "name": "ipython",
    "version": 3
   },
   "file_extension": ".py",
   "mimetype": "text/x-python",
   "name": "python",
   "nbconvert_exporter": "python",
   "pygments_lexer": "ipython3",
   "version": "3.7.1"
  }
 },
 "nbformat": 4,
 "nbformat_minor": 5
}
