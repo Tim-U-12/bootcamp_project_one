{
 "cells": [
  {
   "cell_type": "code",
   "execution_count": null,
   "id": "c620d9e0",
   "metadata": {},
   "outputs": [],
   "source": [
    "import os\n",
    "import pandas as pd"
   ]
  },
  {
   "cell_type": "code",
   "execution_count": null,
   "id": "d9dea77e",
   "metadata": {},
   "outputs": [],
   "source": [
    "vehicles_data = os.path.join(\".\" ,\"Resources\", \"vehicles.csv\")\n",
    "\n",
    "vehicles_df = pd.read_csv(vehicles_data)\n",
    "\n",
    "vehicles_df.head()"
   ]
  },
  {
   "cell_type": "code",
   "execution_count": null,
   "id": "fe5ed8a7",
   "metadata": {},
   "outputs": [],
   "source": [
    "vehicles_df.columns"
   ]
  },
  {
   "cell_type": "code",
   "execution_count": null,
   "id": "322d162c",
   "metadata": {},
   "outputs": [],
   "source": [
    "vehicles_column = vehicles_df.drop([\"url\", \"region_url\", \"image_url\", \"description\", \"county\", \"VIN\"], axis = 1)\n",
    "vehicles_column.head()"
   ]
  },
  {
   "cell_type": "code",
   "execution_count": null,
   "id": "610eec28",
   "metadata": {},
   "outputs": [],
   "source": [
    "vehicles_column.count()"
   ]
  },
  {
   "cell_type": "code",
   "execution_count": null,
   "id": "4306f28c",
   "metadata": {},
   "outputs": [],
   "source": [
    "vehicles_duplicate = vehicles_column[vehicles_column.duplicated(subset = [\"id\"])]\n",
    "vehicles_duplicate[\"id\"].unique()"
   ]
  },
  {
   "cell_type": "code",
   "execution_count": null,
   "id": "31bd70ff",
   "metadata": {},
   "outputs": [],
   "source": [
    "vehicles_na = vehicles_column.dropna(how = \"any\")\n",
    "vehicles_na"
   ]
  },
  {
   "cell_type": "code",
   "execution_count": null,
   "id": "de5430cd",
   "metadata": {},
   "outputs": [],
   "source": [
    "vehicles_na.count()"
   ]
  },
  {
   "cell_type": "code",
   "execution_count": null,
   "id": "45443113",
   "metadata": {},
   "outputs": [],
   "source": [
    "vehicles_sorted = vehicles_na[(vehicles_na[\"year\"] >= 2000) & (vehicles_na[\"year\"] <= 2022)]\n",
    "vehicles_sorted.head()"
   ]
  },
  {
   "cell_type": "code",
   "execution_count": null,
   "id": "ee26cb58",
   "metadata": {},
   "outputs": [],
   "source": [
    "vehicles_cleaned_df = vehicles_sorted.reset_index(drop = True)\n",
    "vehicles_cleaned_df.head()"
   ]
  },
  {
   "cell_type": "code",
   "execution_count": null,
   "id": "2174eeac",
   "metadata": {},
   "outputs": [],
   "source": [
    "vehicles_cleaned_df.count()"
   ]
  },
  {
   "cell_type": "code",
   "execution_count": null,
   "id": "13a192ad",
   "metadata": {},
   "outputs": [],
   "source": [
    "vehicles_cleaned_df.to_csv(\"output_data/vehicles_cleaned.csv\")"
   ]
  },
  {
   "cell_type": "code",
   "execution_count": null,
   "id": "479c9698",
   "metadata": {},
   "outputs": [],
   "source": []
  }
 ],
 "metadata": {
  "kernelspec": {
   "display_name": "Python 3 (ipykernel)",
   "language": "python",
   "name": "python3"
  },
  "language_info": {
   "codemirror_mode": {
    "name": "ipython",
    "version": 3
   },
   "file_extension": ".py",
   "mimetype": "text/x-python",
   "name": "python",
   "nbconvert_exporter": "python",
   "pygments_lexer": "ipython3",
   "version": "3.7.1"
  }
 },
 "nbformat": 4,
 "nbformat_minor": 5
}
