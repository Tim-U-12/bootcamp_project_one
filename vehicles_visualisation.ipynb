{
 "cells": [
  {
   "cell_type": "code",
   "execution_count": 2,
   "id": "0ecd886e",
   "metadata": {},
   "outputs": [],
   "source": [
    "import os\n",
    "import pandas as pd\n",
    "import matplotlib.pyplot as plt"
   ]
  },
  {
   "cell_type": "markdown",
   "id": "b3f57777",
   "metadata": {},
   "source": [
    "# Dhiraj\n",
    "\n",
    "# Question : Correlation between odometer (kms run) and price of the car.\n",
    " "
   ]
  },
  {
   "cell_type": "markdown",
   "id": "7bb6af6a",
   "metadata": {},
   "source": [
    "- Opening the dataset .csv file\n",
    "\n",
    "- Removing the decimal from the year column\n",
    "\n",
    "- Removing the outliers in the dataset. \n",
    "    - Selecting vehicles between the price of $1000 to $200,000\n",
    "    - Selecting vehicles between the odometer of $100 to $900,000"
   ]
  },
  {
   "cell_type": "code",
   "execution_count": 13,
   "id": "2c181ff2",
   "metadata": {},
   "outputs": [
    {
     "data": {
      "text/plain": [
       "66264"
      ]
     },
     "execution_count": 13,
     "metadata": {},
     "output_type": "execute_result"
    }
   ],
   "source": [
    "# Showing the relation between the odometer and the price of the listed cars\n",
    "\n",
    "# open the csv file\n",
    "clean_data = os.path.join(\"output_data\", \"vehicles_cleaned.csv\")\n",
    "\n",
    "# read the csv file\n",
    "clean_df = pd.read_csv(clean_data)\n",
    "\n",
    "# removing the decimals from the year column\n",
    "clean_df['year'] = clean_df['year'].astype(int)\n",
    "\n",
    "# removing records based on price outliers\n",
    "clean_price_df = clean_df.loc[(clean_df['price'] >= 1000) & (clean_df['price'] <= 200000)]\n",
    "\n",
    "# removing records based on Odometer outliers\n",
    "cleaner_df = clean_price_df.loc[(clean_price_df['odometer'] >= 100) & (clean_price_df['odometer'] <= 900000)] \n",
    "\n",
    "# Getting the count of the vehicles remaing for visulaisation\n",
    "# cleaner_df.count()\n",
    "\n",
    "len(cleaner_df)\n",
    "\n",
    "\n"
   ]
  },
  {
   "cell_type": "code",
   "execution_count": 4,
   "id": "dbefcf5e",
   "metadata": {},
   "outputs": [
    {
     "data": {
      "text/plain": [
       "Index(['Unnamed: 0', 'id', 'region', 'price', 'year', 'manufacturer', 'model',\n",
       "       'condition', 'cylinders', 'fuel', 'odometer', 'title_status',\n",
       "       'transmission', 'drive', 'size', 'type', 'paint_color', 'state', 'lat',\n",
       "       'long', 'posting_date'],\n",
       "      dtype='object')"
      ]
     },
     "execution_count": 4,
     "metadata": {},
     "output_type": "execute_result"
    }
   ],
   "source": [
    "clean_df.columns"
   ]
  },
  {
   "cell_type": "markdown",
   "id": "0a737a5d",
   "metadata": {},
   "source": [
    "# Plotting a scatter plot\n",
    "\n",
    "- Plottiong a scatter plot to show the relation between Price and Odometer of the of the car."
   ]
  },
  {
   "cell_type": "code",
   "execution_count": 14,
   "id": "cde36855",
   "metadata": {},
   "outputs": [
    {
     "data": {
      "image/png": "[encoded data removed]",
      "text/plain": [
       "<Figure size 432x288 with 1 Axes>"
      ]
     },
     "metadata": {
      "needs_background": "light"
     },
     "output_type": "display_data"
    }
   ],
   "source": [
    "x_axis = cleaner_df[\"odometer\"]/1000\n",
    "y_axis = cleaner_df[\"price\"]/1000\n",
    "\n",
    "plt.scatter(x_axis, y_axis)\n",
    "\n",
    "plt.title(\"Odometer vs Price comparison\")\n",
    "plt.xlabel(\"Odometer (in thousands)\")\n",
    "plt.ylabel(\"Price (in thousands)\")\n",
    "plt.savefig(\"Odo_vs_price.png\")\n",
    "plt.show()"
   ]
  },
  {
   "cell_type": "code",
   "execution_count": null,
   "id": "587f15fe",
   "metadata": {},
   "outputs": [],
   "source": []
  },
  {
   "cell_type": "markdown",
   "id": "c8c92186",
   "metadata": {},
   "source": [
    "# Observations\n",
    "\n",
    "* Higher the Odometer reading, lower the price of the car. We can see that from the graph above. \n",
    "* Vehicles plotted on the botom right hand corner \n",
    "    * These vehicles are very high on the their odometer reading and hence the price of the vehicle has depreciated.\n",
    "\n",
    "* Vehicles plotted on the top left hand corner \n",
    "    * These vehicles are very low on the their odometer reading and hence the price of the vehicle is high.\n",
    "    \n",
    "* Other factors to take into consideration while analysing this relation :       \n",
    "    * Year of manufacture is also have a bearing on the price of the vehicle"
   ]
  },
  {
   "cell_type": "code",
   "execution_count": null,
   "id": "8c0e6895",
   "metadata": {},
   "outputs": [],
   "source": []
  },
  {
   "cell_type": "code",
   "execution_count": null,
   "id": "47c5cb8a",
   "metadata": {},
   "outputs": [],
   "source": []
  },
  {
   "cell_type": "code",
   "execution_count": null,
   "id": "06bfae3b",
   "metadata": {},
   "outputs": [],
   "source": []
  },
  {
   "cell_type": "code",
   "execution_count": null,
   "id": "188109ea",
   "metadata": {},
   "outputs": [],
   "source": []
  },
  {
   "cell_type": "code",
   "execution_count": null,
   "id": "642f45bb",
   "metadata": {},
   "outputs": [],
   "source": []
  },
  {
   "cell_type": "code",
   "execution_count": null,
   "id": "61fa7d7e",
   "metadata": {},
   "outputs": [],
   "source": []
  },
  {
   "cell_type": "code",
   "execution_count": null,
   "id": "5a969f13",
   "metadata": {},
   "outputs": [],
   "source": []
  },
  {
   "cell_type": "code",
   "execution_count": 12,
   "id": "6f4f28c8",
   "metadata": {},
   "outputs": [],
   "source": []
  },
  {
   "cell_type": "code",
   "execution_count": null,
   "id": "b6ec0351",
   "metadata": {},
   "outputs": [],
   "source": []
  }
 ],
 "metadata": {
  "kernelspec": {
   "display_name": "Python 3 (ipykernel)",
   "language": "python",
   "name": "python3"
  },
  "language_info": {
   "codemirror_mode": {
    "name": "ipython",
    "version": 3
   },
   "file_extension": ".py",
   "mimetype": "text/x-python",
   "name": "python",
   "nbconvert_exporter": "python",
   "pygments_lexer": "ipython3",
   "version": "3.7.7"
  },
  "vscode": {
   "interpreter": {
    "hash": "6d1337f3e2deb32dbdc6cfa339fa4de65d74cb2cbb11d17f3cfb9b5f4642fd5d"
   }
  }
 },
 "nbformat": 4,
 "nbformat_minor": 5
}
