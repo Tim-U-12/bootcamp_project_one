{
 "cells": [
  {
   "cell_type": "code",
   "execution_count": 1,
   "id": "af529d89",
   "metadata": {},
   "outputs": [],
   "source": [
    "import pandas as pd\n",
    "import os\n",
    "import matplotlib.pyplot as plt"
   ]
  },
  {
   "cell_type": "code",
   "execution_count": 2,
   "id": "27f4daac",
   "metadata": {},
   "outputs": [],
   "source": [
    "dj_cleaned_data = os.path.join(\"output_data\",\"vehicles_cleaned.csv\")\n",
    "dj_cleaned_df = pd.read_csv(dj_cleaned_data)"
   ]
  },
  {
   "cell_type": "code",
   "execution_count": 10,
   "id": "002284ed",
   "metadata": {},
   "outputs": [
    {
     "data": {
      "text/html": [
       "<div>\n",
       "<style scoped>\n",
       "    .dataframe tbody tr th:only-of-type {\n",
       "        vertical-align: middle;\n",
       "    }\n",
       "\n",
       "    .dataframe tbody tr th {\n",
       "        vertical-align: top;\n",
       "    }\n",
       "\n",
       "    .dataframe thead th {\n",
       "        text-align: right;\n",
       "    }\n",
       "</style>\n",
       "<table border=\"1\" class=\"dataframe\">\n",
       "  <thead>\n",
       "    <tr style=\"text-align: right;\">\n",
       "      <th></th>\n",
       "      <th>Unnamed: 0</th>\n",
       "      <th>id</th>\n",
       "      <th>region</th>\n",
       "      <th>price</th>\n",
       "      <th>year</th>\n",
       "      <th>manufacturer</th>\n",
       "      <th>model</th>\n",
       "      <th>condition</th>\n",
       "      <th>cylinders</th>\n",
       "      <th>fuel</th>\n",
       "      <th>...</th>\n",
       "      <th>title_status</th>\n",
       "      <th>transmission</th>\n",
       "      <th>drive</th>\n",
       "      <th>size</th>\n",
       "      <th>type</th>\n",
       "      <th>paint_color</th>\n",
       "      <th>state</th>\n",
       "      <th>lat</th>\n",
       "      <th>long</th>\n",
       "      <th>posting_date</th>\n",
       "    </tr>\n",
       "  </thead>\n",
       "  <tbody>\n",
       "    <tr>\n",
       "      <th>0</th>\n",
       "      <td>0</td>\n",
       "      <td>7316356412</td>\n",
       "      <td>auburn</td>\n",
       "      <td>15000</td>\n",
       "      <td>2013.0</td>\n",
       "      <td>ford</td>\n",
       "      <td>f-150 xlt</td>\n",
       "      <td>excellent</td>\n",
       "      <td>6 cylinders</td>\n",
       "      <td>gas</td>\n",
       "      <td>...</td>\n",
       "      <td>clean</td>\n",
       "      <td>automatic</td>\n",
       "      <td>rwd</td>\n",
       "      <td>full-size</td>\n",
       "      <td>truck</td>\n",
       "      <td>black</td>\n",
       "      <td>al</td>\n",
       "      <td>32.592000</td>\n",
       "      <td>-85.51890</td>\n",
       "      <td>2021-05-03T14:02:03-0500</td>\n",
       "    </tr>\n",
       "    <tr>\n",
       "      <th>1</th>\n",
       "      <td>1</td>\n",
       "      <td>7314560853</td>\n",
       "      <td>auburn</td>\n",
       "      <td>19900</td>\n",
       "      <td>2004.0</td>\n",
       "      <td>ford</td>\n",
       "      <td>f250 super duty</td>\n",
       "      <td>good</td>\n",
       "      <td>8 cylinders</td>\n",
       "      <td>diesel</td>\n",
       "      <td>...</td>\n",
       "      <td>clean</td>\n",
       "      <td>automatic</td>\n",
       "      <td>4wd</td>\n",
       "      <td>full-size</td>\n",
       "      <td>pickup</td>\n",
       "      <td>blue</td>\n",
       "      <td>al</td>\n",
       "      <td>32.547500</td>\n",
       "      <td>-85.46820</td>\n",
       "      <td>2021-04-29T17:19:18-0500</td>\n",
       "    </tr>\n",
       "    <tr>\n",
       "      <th>2</th>\n",
       "      <td>2</td>\n",
       "      <td>7313406529</td>\n",
       "      <td>auburn</td>\n",
       "      <td>14000</td>\n",
       "      <td>2012.0</td>\n",
       "      <td>honda</td>\n",
       "      <td>odyssey</td>\n",
       "      <td>excellent</td>\n",
       "      <td>6 cylinders</td>\n",
       "      <td>gas</td>\n",
       "      <td>...</td>\n",
       "      <td>clean</td>\n",
       "      <td>automatic</td>\n",
       "      <td>fwd</td>\n",
       "      <td>full-size</td>\n",
       "      <td>mini-van</td>\n",
       "      <td>silver</td>\n",
       "      <td>al</td>\n",
       "      <td>32.628739</td>\n",
       "      <td>-85.46182</td>\n",
       "      <td>2021-04-27T12:20:01-0500</td>\n",
       "    </tr>\n",
       "    <tr>\n",
       "      <th>3</th>\n",
       "      <td>3</td>\n",
       "      <td>7312847466</td>\n",
       "      <td>auburn</td>\n",
       "      <td>22500</td>\n",
       "      <td>2001.0</td>\n",
       "      <td>ford</td>\n",
       "      <td>f450</td>\n",
       "      <td>good</td>\n",
       "      <td>8 cylinders</td>\n",
       "      <td>diesel</td>\n",
       "      <td>...</td>\n",
       "      <td>clean</td>\n",
       "      <td>manual</td>\n",
       "      <td>rwd</td>\n",
       "      <td>full-size</td>\n",
       "      <td>truck</td>\n",
       "      <td>white</td>\n",
       "      <td>al</td>\n",
       "      <td>32.630400</td>\n",
       "      <td>-85.40160</td>\n",
       "      <td>2021-04-26T11:15:36-0500</td>\n",
       "    </tr>\n",
       "    <tr>\n",
       "      <th>4</th>\n",
       "      <td>4</td>\n",
       "      <td>7312144944</td>\n",
       "      <td>auburn</td>\n",
       "      <td>15000</td>\n",
       "      <td>2017.0</td>\n",
       "      <td>dodge</td>\n",
       "      <td>charger rt 4dr sedan</td>\n",
       "      <td>excellent</td>\n",
       "      <td>8 cylinders</td>\n",
       "      <td>gas</td>\n",
       "      <td>...</td>\n",
       "      <td>rebuilt</td>\n",
       "      <td>automatic</td>\n",
       "      <td>rwd</td>\n",
       "      <td>mid-size</td>\n",
       "      <td>sedan</td>\n",
       "      <td>grey</td>\n",
       "      <td>al</td>\n",
       "      <td>32.822400</td>\n",
       "      <td>-85.77040</td>\n",
       "      <td>2021-04-24T18:39:59-0500</td>\n",
       "    </tr>\n",
       "  </tbody>\n",
       "</table>\n",
       "<p>5 rows × 21 columns</p>\n",
       "</div>"
      ],
      "text/plain": [
       "   Unnamed: 0          id  region  price    year manufacturer  \\\n",
       "0           0  7316356412  auburn  15000  2013.0         ford   \n",
       "1           1  7314560853  auburn  19900  2004.0         ford   \n",
       "2           2  7313406529  auburn  14000  2012.0        honda   \n",
       "3           3  7312847466  auburn  22500  2001.0         ford   \n",
       "4           4  7312144944  auburn  15000  2017.0        dodge   \n",
       "\n",
       "                  model  condition    cylinders    fuel  ...  title_status  \\\n",
       "0             f-150 xlt  excellent  6 cylinders     gas  ...         clean   \n",
       "1       f250 super duty       good  8 cylinders  diesel  ...         clean   \n",
       "2               odyssey  excellent  6 cylinders     gas  ...         clean   \n",
       "3                  f450       good  8 cylinders  diesel  ...         clean   \n",
       "4  charger rt 4dr sedan  excellent  8 cylinders     gas  ...       rebuilt   \n",
       "\n",
       "  transmission drive       size      type paint_color state        lat  \\\n",
       "0    automatic   rwd  full-size     truck       black    al  32.592000   \n",
       "1    automatic   4wd  full-size    pickup        blue    al  32.547500   \n",
       "2    automatic   fwd  full-size  mini-van      silver    al  32.628739   \n",
       "3       manual   rwd  full-size     truck       white    al  32.630400   \n",
       "4    automatic   rwd   mid-size     sedan        grey    al  32.822400   \n",
       "\n",
       "       long              posting_date  \n",
       "0 -85.51890  2021-05-03T14:02:03-0500  \n",
       "1 -85.46820  2021-04-29T17:19:18-0500  \n",
       "2 -85.46182  2021-04-27T12:20:01-0500  \n",
       "3 -85.40160  2021-04-26T11:15:36-0500  \n",
       "4 -85.77040  2021-04-24T18:39:59-0500  \n",
       "\n",
       "[5 rows x 21 columns]"
      ]
     },
     "execution_count": 10,
     "metadata": {},
     "output_type": "execute_result"
    }
   ],
   "source": [
    "dj_cleaned_df.head()"
   ]
  },
  {
   "cell_type": "markdown",
   "id": "f75d70aa",
   "metadata": {},
   "source": [
    "# Deon\n",
    "# Analysis\n",
    "* Observations based on comparing the Color of the Vehicles listed with the number of listings, prices of listings and\n",
    "  manufacturer. "
   ]
  },
  {
   "cell_type": "code",
   "execution_count": 11,
   "id": "7ba3db61",
   "metadata": {},
   "outputs": [
    {
     "data": {
      "text/plain": [
       "white     17790\n",
       "black     13038\n",
       "silver    11058\n",
       "grey       9082\n",
       "blue       7414\n",
       "red        6649\n",
       "brown      2147\n",
       "green      1851\n",
       "custom     1681\n",
       "yellow      438\n",
       "orange      343\n",
       "purple      173\n",
       "Name: paint_color, dtype: int64"
      ]
     },
     "execution_count": 11,
     "metadata": {},
     "output_type": "execute_result"
    }
   ],
   "source": [
    "colors_df = dj_cleaned_df['paint_color'].value_counts()\n",
    "colors_df"
   ]
  },
  {
   "cell_type": "code",
   "execution_count": 12,
   "id": "2130d01f",
   "metadata": {},
   "outputs": [
    {
     "data": {
      "image/png": "[encoded data removed]",
      "text/plain": [
       "<Figure size 432x288 with 1 Axes>"
      ]
     },
     "metadata": {
      "needs_background": "light"
     },
     "output_type": "display_data"
    }
   ],
   "source": [
    "colors_df.plot(kind='bar')\n",
    "plt.title(\"Number of Listings per Paint Color\")\n",
    "plt.xlabel(\"Paint Color\")\n",
    "plt.ylabel(\"Number of Cars\")\n",
    "plt.xlim(-1,len(colors_df.index))\n",
    "plt.show()"
   ]
  },
  {
   "cell_type": "markdown",
   "id": "d60ed862",
   "metadata": {},
   "source": [
    "# Observations \n",
    "* White Color Vehicles are the most listed with 17,790 listings.\n",
    "* Followed by Black(13,038), Silver(11,058), Grey(9082), Blue(7414) and Red(6649) Color Vehicles.\n",
    "* The Vehicle Color with the fewest listings is Purple with 173 listings. "
   ]
  },
  {
   "cell_type": "code",
   "execution_count": 13,
   "id": "a20c2013",
   "metadata": {},
   "outputs": [
    {
     "data": {
      "text/plain": [
       "paint_color\n",
       "black     190.410112\n",
       "blue       82.643580\n",
       "brown      21.629381\n",
       "custom     20.328524\n",
       "green      18.005972\n",
       "grey      115.393445\n",
       "orange      5.021330\n",
       "purple      1.571497\n",
       "red        84.892406\n",
       "silver    119.458807\n",
       "white     295.811409\n",
       "yellow      5.704830\n",
       "Name: price, dtype: float64"
      ]
     },
     "execution_count": 13,
     "metadata": {},
     "output_type": "execute_result"
    }
   ],
   "source": [
    "dj_price_cleaned_df = dj_cleaned_df.loc[(dj_cleaned_df['price']>=1000) & (dj_cleaned_df['price']<=200000)]\n",
    "colors_price_df = dj_price_cleaned_df.groupby(['paint_color'])['price'].sum()/1000000\n",
    "colors_price_df"
   ]
  },
  {
   "cell_type": "code",
   "execution_count": 14,
   "id": "dbce3ed5",
   "metadata": {
    "scrolled": true
   },
   "outputs": [
    {
     "data": {
      "image/png": "[encoded data removed]",
      "text/plain": [
       "<Figure size 432x288 with 1 Axes>"
      ]
     },
     "metadata": {
      "needs_background": "light"
     },
     "output_type": "display_data"
    }
   ],
   "source": [
    "colors_price_df.plot(kind='bar')\n",
    "plt.title(\"Sum of Prices of Listings per Paint Color\")\n",
    "plt.xlabel(\"Paint Color\")\n",
    "plt.ylabel(\"Sum of Prices of Listings (in Millions of Dollars)\")\n",
    "plt.xlim(-1,len(colors_price_df.index))\n",
    "plt.show()"
   ]
  },
  {
   "cell_type": "markdown",
   "id": "96bffe12",
   "metadata": {},
   "source": [
    "# Observations\n",
    "* White Color Vehicles had the largest sum price of listings (USD 295.8 million).\n",
    "* Followed by Black(USD 190.4 million), Silver(USD 119.5 million), Grey(USD 115.4 million), Red(USD 84.9 million) and \n",
    "  Blue(USD 82.6 million) Color Vehicles. \n",
    "* Even though there are 765 more Blue Vehicles listed than Red Vehicles, the sum price of listings of Red Vehicles is greater\n",
    "  than that of Blue Vehicles by USD 2.3 million.\n",
    "* The Vehicle Color with smallest sum price of listings is Purple with USD 1.6 million."
   ]
  },
  {
   "cell_type": "code",
   "execution_count": 15,
   "id": "2c64748d",
   "metadata": {},
   "outputs": [
    {
     "data": {
      "text/plain": [
       "manufacturer\n",
       "acura             143\n",
       "alfa-romeo          1\n",
       "audi              124\n",
       "bmw               357\n",
       "buick             188\n",
       "cadillac          257\n",
       "chevrolet        3110\n",
       "chrysler          225\n",
       "dodge             424\n",
       "ferrari             1\n",
       "fiat               37\n",
       "ford             5468\n",
       "gmc               954\n",
       "honda             491\n",
       "hyundai           251\n",
       "infiniti          107\n",
       "jaguar             20\n",
       "jeep              421\n",
       "kia               275\n",
       "land rover          1\n",
       "lexus             292\n",
       "lincoln           143\n",
       "mazda             111\n",
       "mercedes-benz     347\n",
       "mercury            60\n",
       "mini               78\n",
       "mitsubishi        172\n",
       "nissan            734\n",
       "pontiac            68\n",
       "porsche            28\n",
       "ram               980\n",
       "rover              82\n",
       "saturn             37\n",
       "subaru            252\n",
       "tesla              13\n",
       "toyota           1167\n",
       "volkswagen        275\n",
       "volvo              96\n",
       "Name: paint_color, dtype: int64"
      ]
     },
     "execution_count": 15,
     "metadata": {},
     "output_type": "execute_result"
    }
   ],
   "source": [
    "white_cleaned_df = dj_cleaned_df.loc[dj_cleaned_df['paint_color']=='white']\n",
    "manufacturer_white_df = white_cleaned_df.groupby(['manufacturer'])['paint_color'].count()\n",
    "manufacturer_white_df"
   ]
  },
  {
   "cell_type": "code",
   "execution_count": 16,
   "id": "2d5e4f0f",
   "metadata": {},
   "outputs": [
    {
     "data": {
      "image/png": "[encoded data removed]",
      "text/plain": [
       "<Figure size 864x432 with 1 Axes>"
      ]
     },
     "metadata": {
      "needs_background": "light"
     },
     "output_type": "display_data"
    }
   ],
   "source": [
    "manufacturer_white_df.plot(kind='bar',figsize=(12,6))\n",
    "plt.title(\"Number of White Vehicles Listed per Manufacturer\")\n",
    "plt.xlabel(\"Manufacturer\")\n",
    "plt.ylabel(\"Number of White Vehicles\")\n",
    "plt.xlim(-1,len(manufacturer_white_df.index))\n",
    "plt.show()"
   ]
  },
  {
   "cell_type": "markdown",
   "id": "36656d49",
   "metadata": {},
   "source": [
    "# Observations\n",
    "* The Vehicle Manufacturer with the largest number of White Vehicles listed is Ford with 5468 listings.\n",
    "* The second largest is Chevrolet with 3110 White Vehicles Listed. \n",
    "* Both these manufacturers are American owned. \n",
    "* The third largest is Toyota with 1167 White Vehicles Listed. (Japanese Owned)"
   ]
  }
 ],
 "metadata": {
  "kernelspec": {
   "display_name": "Python 3 (ipykernel)",
   "language": "python",
   "name": "python3"
  },
  "language_info": {
   "codemirror_mode": {
    "name": "ipython",
    "version": 3
   },
   "file_extension": ".py",
   "mimetype": "text/x-python",
   "name": "python",
   "nbconvert_exporter": "python",
   "pygments_lexer": "ipython3",
   "version": "3.7.7"
  }
 },
 "nbformat": 4,
 "nbformat_minor": 5
}
